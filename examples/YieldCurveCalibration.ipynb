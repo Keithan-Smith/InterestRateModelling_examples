{
 "cells": [
  {
   "cell_type": "markdown",
   "metadata": {},
   "source": [
    "# Yield Curve Calibration\n",
    "\n",
    "In this notebook we demonstrate yield curve calibration procedures.\n",
    "\n",
    "Curve calibration is the process of deriving discount factor curves $P(tT)$ from quotations of financial instruments traded in the market. The financial instruments need to take into account various details and market conventions. These details and market conventions can be handled e.g. with QuantLib. This is why we use QuantLib for our curve calibration example.\n",
    "\n",
    "The notebook is structured as follows:\n",
    "\n",
    "  1. Single-curve calibration from swap quotes.\n",
    "\n",
    "  2. Multi-curve calibration of OIS discount and Euribor projection curves.\n",
    "\n",
    "\n",
    "Market instrument quotes are typically in terms of *market rates* or *par rates*. We read example data from data files."
   ]
  },
  {
   "cell_type": "code",
   "execution_count": null,
   "metadata": {},
   "outputs": [],
   "source": [
    "import matplotlib.pyplot as plt\n",
    "import numpy as np\n",
    "import pandas as pd\n",
    "import QuantLib as ql"
   ]
  },
  {
   "cell_type": "markdown",
   "metadata": {},
   "source": [
    "EURSTR overnight swap quotes:"
   ]
  },
  {
   "cell_type": "code",
   "execution_count": null,
   "metadata": {},
   "outputs": [],
   "source": [
    "eur_str_swaps_data = pd.read_csv('../data/eur_str_swaps.csv')\n",
    "eur_str_swaps_data"
   ]
  },
  {
   "cell_type": "markdown",
   "metadata": {},
   "source": [
    "Forward rate agreement quotes:"
   ]
  },
  {
   "cell_type": "code",
   "execution_count": null,
   "metadata": {},
   "outputs": [],
   "source": [
    "euribor_6m_fras_data = pd.read_csv('../data/euribor_6m_fras.csv')\n",
    "euribor_6m_fras_data"
   ]
  },
  {
   "cell_type": "code",
   "execution_count": null,
   "metadata": {},
   "outputs": [],
   "source": [
    "euribor_3m_fras_data = pd.read_csv('../data/euribor_3m_fras.csv')\n",
    "euribor_3m_fras_data"
   ]
  },
  {
   "cell_type": "markdown",
   "metadata": {},
   "source": [
    "Vanilla swap quotes:"
   ]
  },
  {
   "cell_type": "code",
   "execution_count": null,
   "metadata": {},
   "outputs": [],
   "source": [
    "euribor_6m_swaps_data = pd.read_csv('../data/euribor_6m_swaps.csv')\n",
    "euribor_6m_swaps_data"
   ]
  },
  {
   "cell_type": "markdown",
   "metadata": {},
   "source": [
    "Basis swap quotes:"
   ]
  },
  {
   "cell_type": "code",
   "execution_count": null,
   "metadata": {},
   "outputs": [],
   "source": [
    "euribor_3m_6m_swaps_data = pd.read_csv('../data/euribor_3m_6m_swaps.csv')\n",
    "euribor_3m_6m_swaps_data"
   ]
  },
  {
   "cell_type": "markdown",
   "metadata": {},
   "source": [
    "## Single Curve Calibration\n",
    "\n",
    "In a first step we illustrate single curve calibration. We use 6m swap quotes for this exercise.\n",
    "\n",
    "Irrespective of single-curve or multi-curve calibration we first need to specify the interest rate indices and *rate helpers*."
   ]
  },
  {
   "cell_type": "code",
   "execution_count": null,
   "metadata": {},
   "outputs": [],
   "source": [
    "euribor_6m_bootstrap_index = ql.Euribor6M()"
   ]
  },
  {
   "cell_type": "code",
   "execution_count": null,
   "metadata": {},
   "outputs": [],
   "source": [
    "swap_std_helpers = [\n",
    "    ql.SwapRateHelper(\n",
    "        row['Quote'],                  # rate\n",
    "        ql.Period(row['Term']),        # tenor\n",
    "        ql.TARGET(),                   # calender\n",
    "        ql.Annual,                     # fixedFrequency\n",
    "        ql.ModifiedFollowing,          # fixedConvention\n",
    "        ql.Thirty360(ql.Thirty360.BondBasis),  # fixedDayCount\n",
    "        euribor_6m_bootstrap_index     # index\n",
    "        )\n",
    "    for idx, row in euribor_6m_swaps_data.iterrows()\n",
    "]"
   ]
  },
  {
   "cell_type": "markdown",
   "metadata": {},
   "source": [
    "QuantLib exports various combinations of interpolation traits and interpolation methods:\n",
    "\n",
    "| QuantLib Swig class          | Trait       | Method\n",
    "|------------------------------|-------------|--------------------\n",
    "| PiecewiseFlatForward         | ForwardRate | BackwardFlat\n",
    "| PiecewiseLinearForward       | ForwardRate | Linear\n",
    "| PiecewiseLinearZero          | ZeroYield   | Linear\n",
    "| PiecewiseCubicZero           | ZeroYield   | Cubic\n",
    "| PiecewiseKrugerZero          | ZeroYield   | Kruger\n",
    "| PiecewiseConvexMonotoneZero  | ZeroYield   | ConvexMonotone\n",
    "| PiecewiseLogLinearDiscount   | Discount    | LogLinear\n",
    "| PiecewiseLogCubicDiscount    | Discount    | MonotonicLogCubic\n",
    "| PiecewiseSplineCubicDiscount | Discount    | SplineCubic\n",
    "| PiecewiseKrugerLogDiscount   | Discount    | KrugerLog\n",
    "\n",
    "We use *PiecewiseFlatForward*, that is backward-flat interpolation on continuous forward rates."
   ]
  },
  {
   "cell_type": "code",
   "execution_count": null,
   "metadata": {},
   "outputs": [],
   "source": [
    "yts = ql.PiecewiseFlatForward(\n",
    "    0,\n",
    "    ql.TARGET(),\n",
    "    swap_std_helpers,\n",
    "    ql.Actual365Fixed()\n",
    ")\n",
    "yts.nodes()"
   ]
  },
  {
   "cell_type": "markdown",
   "metadata": {},
   "source": [
    "Now, we can check that curve calibration and interpolation works as expected."
   ]
  },
  {
   "cell_type": "code",
   "execution_count": null,
   "metadata": {},
   "outputs": [],
   "source": [
    "times = np.linspace(0.0, 30.0, 301)\n",
    "plt.figure(figsize=(8,5))\n",
    "plt.plot(\n",
    "    times,\n",
    "    [ yts.forwardRate(T,T,ql.Continuous,ql.Annual,True).rate() * 100 for T in times ]\n",
    ")\n",
    "plt.xlabel('maturity time (in years)')\n",
    "plt.ylabel('forward rate (%)')\n",
    "plt.show()"
   ]
  },
  {
   "cell_type": "markdown",
   "metadata": {},
   "source": [
    "## Multi-curve Calibration\n",
    "\n",
    "Multi-curve calibration in QuantLib is analogous to single curve calibration. Critical aspect is the specification of rate helpers. The dependencies between curves are realised by supplying earlier calibrated curves to the rate helpers."
   ]
  },
  {
   "cell_type": "markdown",
   "metadata": {},
   "source": [
    "### OIS Curve\n",
    "\n",
    "Standard OIS Curve calibration is like single-curve calbration: projection curve and discount curve coincide."
   ]
  },
  {
   "cell_type": "code",
   "execution_count": null,
   "metadata": {},
   "outputs": [],
   "source": [
    "eur_str_ytsh = ql.RelinkableYieldTermStructureHandle()\n",
    "eur_str_index = ql.Eonia(eur_str_ytsh)  # Eonia and EURSTR shae the same properties\n",
    "ql_quote = lambda q : ql.QuoteHandle(ql.SimpleQuote(q))\n",
    "\n",
    "ois_rate_helpers = [\n",
    "    ql.OISRateHelper(\n",
    "        2,                             # settlementDays\n",
    "        ql.Period(row['Term']),        # tenor\n",
    "        ql_quote(row['Quote']),        # rate\n",
    "        eur_str_index,                 # index\n",
    "    )\n",
    "    for idx, row in eur_str_swaps_data.iterrows()\n",
    "]\n",
    "\n",
    "yts = ql.PiecewiseFlatForward(\n",
    "    0,\n",
    "    ql.TARGET(),\n",
    "    ois_rate_helpers,\n",
    "    ql.Actual365Fixed()\n",
    ")\n",
    "display(yts.nodes())\n",
    "\n",
    "eur_str_ytsh.linkTo(yts)"
   ]
  },
  {
   "cell_type": "markdown",
   "metadata": {},
   "source": [
    "### Projection Curve from FRA and Vanilla Swap Quotes\n",
    "\n",
    "Next we build the 6m projection curve."
   ]
  },
  {
   "cell_type": "code",
   "execution_count": null,
   "metadata": {},
   "outputs": [],
   "source": [
    "euribor_6m_ytsh = ql.RelinkableYieldTermStructureHandle()\n",
    "euribor_6m_index = ql.Euribor6M(euribor_6m_ytsh)\n",
    "\n",
    "euribor_6m_fra_helpers = [\n",
    "    ql.FraRateHelper(\n",
    "        ql_quote(row['Quote']),  # rate\n",
    "        int(row['Term'][:1]),    # monthsToStart\n",
    "        euribor_6m_index,        # index\n",
    "    )\n",
    "    for idx, row in euribor_6m_fras_data.iterrows()\n",
    "]\n",
    "\n",
    "euribor_6m_swap_helpers = [\n",
    "    ql.SwapRateHelper(\n",
    "        row['Quote'],                  # rate\n",
    "        ql.Period(row['Term']),        # tenor\n",
    "        ql.TARGET(),                   # calender\n",
    "        ql.Annual,                     # fixedFrequency\n",
    "        ql.ModifiedFollowing,          # fixedConvention\n",
    "        ql.Thirty360(ql.Thirty360.BondBasis),  # fixedDayCount\n",
    "        euribor_6m_bootstrap_index,    # index\n",
    "        ql.QuoteHandle(),              # spread, not used\n",
    "        ql.Period(),                   # fwdStart, not used\n",
    "        eur_str_ytsh,                  # discountingCurve\n",
    "        )\n",
    "    for idx, row in euribor_6m_swaps_data.iterrows()    \n",
    "]\n",
    "\n",
    "yts = ql.PiecewiseFlatForward(\n",
    "    0,\n",
    "    ql.TARGET(),\n",
    "    euribor_6m_fra_helpers + euribor_6m_swap_helpers,\n",
    "    ql.Actual365Fixed()\n",
    ")\n",
    "display(yts.nodes())\n",
    "\n",
    "euribor_6m_ytsh.linkTo(yts)"
   ]
  },
  {
   "cell_type": "markdown",
   "metadata": {},
   "source": [
    "### Projection Curve from FRA and Basis Swap Quotes\n",
    "\n",
    "We can also use basis swap helpers to construct a projection curve."
   ]
  },
  {
   "cell_type": "code",
   "execution_count": null,
   "metadata": {},
   "outputs": [],
   "source": [
    "euribor_3m_ytsh = ql.RelinkableYieldTermStructureHandle()\n",
    "euribor_3m_index = ql.Euribor3M(euribor_3m_ytsh)\n",
    "\n",
    "euribor_3m_fra_helpers = [\n",
    "    ql.FraRateHelper(\n",
    "        ql_quote(row['Quote']),  # rate\n",
    "        int(row['Term'][:1]),    # monthsToStart\n",
    "        euribor_3m_index,        # index\n",
    "    )\n",
    "    for idx, row in euribor_3m_fras_data.iterrows()\n",
    "]\n",
    "\n",
    "euribor_3m_6m_swap_helpers = [\n",
    "    ql.IborIborBasisSwapRateHelper( # pay baseIndex + basis vs. otherIndex\n",
    "        ql_quote(row['Quote']),        # basis\n",
    "        ql.Period(row['Term']),        # tenor\n",
    "        2,                             # settlementDays\n",
    "        ql.TARGET(),                   # calendar\n",
    "        ql.ModifiedFollowing,          # convention\n",
    "        False,                         # endOfMonth\n",
    "        euribor_3m_index,              # baseIndex\n",
    "        euribor_6m_index,              # otherIndex\n",
    "        eur_str_ytsh,                  # discountHandle\n",
    "        True,                          # bootstrapBaseCurve\n",
    "    )\n",
    "    for idx, row in euribor_3m_6m_swaps_data.iterrows()\n",
    "]\n",
    "\n",
    "yts = ql.PiecewiseFlatForward(\n",
    "    0,\n",
    "    ql.TARGET(),\n",
    "    euribor_3m_fra_helpers + euribor_3m_6m_swap_helpers,\n",
    "    ql.Actual365Fixed()\n",
    ")\n",
    "display(yts.nodes())\n",
    "\n",
    "euribor_3m_ytsh.linkTo(yts)"
   ]
  },
  {
   "cell_type": "markdown",
   "metadata": {},
   "source": [
    "### Yield Curve Comparison"
   ]
  },
  {
   "cell_type": "code",
   "execution_count": null,
   "metadata": {},
   "outputs": [],
   "source": [
    "times = np.linspace(0.0, 10.0, 301)\n",
    "plt.figure(figsize=(8,5))\n",
    "plt.plot(\n",
    "    times,\n",
    "    [ euribor_6m_ytsh.forwardRate(T,T,ql.Continuous,ql.Annual,True).rate() * 100 for T in times ],\n",
    "    label = 'euribor_6m'\n",
    ")\n",
    "plt.plot(\n",
    "    times,\n",
    "    [ euribor_3m_ytsh.forwardRate(T,T,ql.Continuous,ql.Annual,True).rate() * 100 for T in times ],\n",
    "    label = 'euribor_3m'\n",
    ")\n",
    "plt.plot(\n",
    "    times,\n",
    "    [ eur_str_ytsh.forwardRate(T,T,ql.Continuous,ql.Annual,True).rate() * 100 for T in times ],\n",
    "    label = 'eur_str'\n",
    ")\n",
    "plt.legend()\n",
    "plt.xlabel('maturity time (in years)')\n",
    "plt.ylabel('forward rate (%)')\n",
    "plt.show()"
   ]
  }
 ],
 "metadata": {
  "kernelspec": {
   "display_name": "Python 3.7.13 ('Python3')",
   "language": "python",
   "name": "python3"
  },
  "language_info": {
   "codemirror_mode": {
    "name": "ipython",
    "version": 3
   },
   "file_extension": ".py",
   "mimetype": "text/x-python",
   "name": "python",
   "nbconvert_exporter": "python",
   "pygments_lexer": "ipython3",
   "version": "3.7.13"
  },
  "orig_nbformat": 4,
  "vscode": {
   "interpreter": {
    "hash": "6577baac5d172c52d32e546c7afca16de0bc6e2c8b06289c33c291798bb27819"
   }
  }
 },
 "nbformat": 4,
 "nbformat_minor": 2
}
